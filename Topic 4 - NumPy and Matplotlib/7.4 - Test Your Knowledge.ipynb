{
 "cells": [
  {
   "cell_type": "markdown",
   "metadata": {},
   "source": [
    "## Test Your Knowledge\n",
    "\n",
    "In the blocks below you will find a range of questions that cover the material we've looked at in the previous notebooks, and build upon the knowledge gained in previous topics. Like in the previous topic, these questions require more code and thought, and will probably take you longer than some of the questions you've seen before."
   ]
  },
  {
   "cell_type": "markdown",
   "metadata": {},
   "source": [
    "1. Implement a function for basic matrix multiplication. It should take two numpy arrays as inputs and if the dimensions are correct it should return the result of the matrix multiplication. Otherwise it should return a message indicating the problem."
   ]
  },
  {
   "cell_type": "code",
   "execution_count": null,
   "metadata": {},
   "outputs": [],
   "source": [
    "## YOUR CODE GOES HERE"
   ]
  },
  {
   "cell_type": "markdown",
   "metadata": {},
   "source": [
    "2. Create two lists of random numbers, and write a function to add these lists together element wise. Convert your lists to numpy arrays and write a second function that adds these together using numpy. Time both of your functions and look at the performance difference with inputs of different sizes."
   ]
  },
  {
   "cell_type": "code",
   "execution_count": null,
   "metadata": {},
   "outputs": [],
   "source": [
    "## YOUR CODE GOES HERE"
   ]
  },
  {
   "cell_type": "markdown",
   "metadata": {},
   "source": [
    "3. Create a list of random numbers, and a numpy array of the same data. Try to sort your list and array using the built-in sort and numpy sort methods (you might have to look up how to use these). Again, time these methods and look at how the performance vaires over time. "
   ]
  },
  {
   "cell_type": "code",
   "execution_count": null,
   "metadata": {},
   "outputs": [],
   "source": [
    "## YOUR CODE GOES HERE"
   ]
  },
  {
   "cell_type": "markdown",
   "metadata": {},
   "source": [
    "4. Using the data you gather from the two questions above, try to draw some graphs. You might want to start by drawing a single line on a graph with the timing data from adding two lists together using base Python from Q2. Then try to add further lines to the same plot showing some data for the other functions. Remember to label your graph and use a legend to identify the different data sets. Finally, save your plot.\n",
    "\n",
    "Note: Automated collection of timing data is difficult in Jupyter. I recommend you just write down your data and then store it in a list or array manually."
   ]
  },
  {
   "cell_type": "code",
   "execution_count": null,
   "metadata": {},
   "outputs": [],
   "source": [
    "## YOUR CODE GOES HERE"
   ]
  },
  {
   "cell_type": "markdown",
   "metadata": {},
   "source": [
    "5. In the data folder is a file called `datafile.txt`. Try to combine all of the skills you've learnt in the previous topics by reading in this data file, saving the data into lists, and then converting into numpy arrays. Plot the data using matplotlib and save your plot. To give you a hand I will tell you that the data is \"tab\" separated. "
   ]
  },
  {
   "cell_type": "code",
   "execution_count": null,
   "metadata": {},
   "outputs": [],
   "source": [
    "## YOUR CODE GOES HERE"
   ]
  }
 ],
 "metadata": {
  "kernelspec": {
   "display_name": "Python 3",
   "language": "python",
   "name": "python3"
  },
  "language_info": {
   "codemirror_mode": {
    "name": "ipython",
    "version": 3
   },
   "file_extension": ".py",
   "mimetype": "text/x-python",
   "name": "python",
   "nbconvert_exporter": "python",
   "pygments_lexer": "ipython3",
   "version": "3.6.9"
  }
 },
 "nbformat": 4,
 "nbformat_minor": 4
}
