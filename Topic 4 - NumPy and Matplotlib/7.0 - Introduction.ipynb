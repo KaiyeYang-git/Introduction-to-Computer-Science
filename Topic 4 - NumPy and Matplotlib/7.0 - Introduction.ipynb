{
 "cells": [
  {
   "cell_type": "markdown",
   "metadata": {},
   "source": [
    "<br>\n",
    "\n",
    "## Topic 7: NumPy and Matplotlib\n",
    "\n",
    "At the end of the previous topic we very briefly introduced some of the third-party packages and modules that you will probably find useful as you move on from this module into other modules in Computer Science. In this final topic of our introductory course we will look at two of those in more detail, namely NumPy and Matplotlib. We've chosen these two in particular as they should be useful to you in your future programming endeavours, whether you are a Computer Science student, or a student in another department taking this module as an elective. They were designed, and have been developed, to provide excellent performance and a wide range of functionality, making Python a significantly more useful language for scientific research.\n",
    "\n",
    "We will use our knowledge from previous topics when using these packages, including converting lists into numpy arrays, timing the performance difference between base Python and numpy methods, and reading data from files and graphing it using matplotlib. These notebooks are adapted from notebooks 2.00, 2.01, 2.02, 4.00, 4.01 and 4.02 of the Python Data Science Handbook by Jake Vanderplas. If you want to know more about either of these packages you should refer to Chapters 2 and 4 of that book, as well as the many resources available online.\n",
    "\n",
    "As always, if you encounter errors that you cannot figure out, or you want something explaining, then please ask you lab demonstrator or discuss things in your breakout rooms. You can use the \"Ask for Help\" function of Zoom to get the attention of a lab demonstrator and they will get to you as soon as they can. \n"
   ]
  },
  {
   "cell_type": "markdown",
   "metadata": {},
   "source": [
    "\n",
    "\n",
    "### Learning Objectives\n",
    "\n",
    "By the end of this topic you should understand how to use the numpy `ndarray` data structure, and appreciate the performance benefits it can offer over using Python lists in certain situations. You should also be able to draw some basic graphs using matplotlib, and feel confident that you could go on to use the more advanced features offered by matplotlib in the future. As this is the final topic in our introductory Python course, you should now be familiar with all of the key concepts of programming in Python, from the basic types and data structures, up to writing complex code that can perform reasonably efficiently, with an understanding of how to profile that code and look for potential bottlenecks. Even though this course has only lasted a term, by the end of this topic you should be in a strong position to go on and tackle any programming problem you might encounter in the rest of your degree program.\n",
    "\n",
    "You should work through these notebooks in your own time:\n",
    "* 7.1 - Introduction to NumPy and `ndarray`\n",
    "* 7.2 - Using NumPy\n",
    "* 7.3 - Simple Plots in Matplotlib\n",
    "* 7.4 - Test Your Knowledge\n",
    "\n",
    "If you've studied Python before, you may have used these packages before. In which case I encourage you to look at the considerable extra detail provided in the Python Data Science Handbook. These additional notebooks will take you through a huge range of extra material that you may well have use for in the future.\n",
    " "
   ]
  }
 ],
 "metadata": {
  "kernelspec": {
   "display_name": "Python 3",
   "language": "python",
   "name": "python3"
  },
  "language_info": {
   "codemirror_mode": {
    "name": "ipython",
    "version": 3
   },
   "file_extension": ".py",
   "mimetype": "text/x-python",
   "name": "python",
   "nbconvert_exporter": "python",
   "pygments_lexer": "ipython3",
   "version": "3.8.11"
  }
 },
 "nbformat": 4,
 "nbformat_minor": 4
}
