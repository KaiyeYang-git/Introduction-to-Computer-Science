{
 "cells": [
  {
   "cell_type": "markdown",
   "metadata": {},
   "source": [
    "## Test Your Knowledge\n",
    "\n",
    "In the blocks below you will find a range of questions that cover the material we've looked at in the previous notebooks. Make sure you can do these tasks before you move on to the next topic, which will cover modules and functions in Python. \n",
    "<br>"
   ]
  },
  {
   "cell_type": "markdown",
   "metadata": {},
   "source": [
    "1) Take a look at the built-in `round` and `sorted` functions in the Python documentation. Use them, with any other functions you think might be useful, to convert the unsorted list of floats into a sorted list of floats that are all rounded to 2 decimal places."
   ]
  },
  {
   "cell_type": "code",
   "execution_count": 3,
   "metadata": {},
   "outputs": [
    {
     "name": "stdout",
     "output_type": "stream",
     "text": [
      "-5.09\n",
      "-2.43\n",
      "1.02\n",
      "2.09\n",
      "2.51\n",
      "3.77\n"
     ]
    }
   ],
   "source": [
    "L = [3.765, 2.094, -5.092, -2.43, 2.51, 1.02]\n",
    "for i in sorted(L, reverse=False):\n",
    "    answer=round(i,2)\n",
    "    print(answer)"
   ]
  },
  {
   "cell_type": "markdown",
   "metadata": {},
   "source": [
    "2) Define your own function that calculates and returns the value of the expression a*b+c for three variables `a`,`b`, and `c`."
   ]
  },
  {
   "cell_type": "code",
   "execution_count": 4,
   "metadata": {},
   "outputs": [
    {
     "name": "stdout",
     "output_type": "stream",
     "text": [
      "1.2\n"
     ]
    }
   ],
   "source": [
    "def function(a,b,c):\n",
    "    print(a*b/c)\n",
    "\n",
    "function(2,3,5)"
   ]
  },
  {
   "cell_type": "markdown",
   "metadata": {},
   "source": [
    "3) Define your own function that will print out all prime numbers between 3 and an input `p`. It will probably be helpful to reuse a significant portion of code you developed for a similar question in the previous topic."
   ]
  },
  {
   "cell_type": "code",
   "execution_count": 45,
   "metadata": {},
   "outputs": [
    {
     "name": "stdout",
     "output_type": "stream",
     "text": [
      "3\n",
      "5\n",
      "7\n",
      "11\n",
      "13\n",
      "17\n",
      "19\n",
      "23\n",
      "29\n",
      "31\n",
      "37\n",
      "41\n",
      "43\n",
      "47\n",
      "53\n",
      "59\n",
      "61\n",
      "67\n",
      "71\n",
      "73\n",
      "79\n",
      "83\n",
      "89\n",
      "97\n",
      "101\n",
      "103\n"
     ]
    }
   ],
   "source": [
    "def primefinder(p):\n",
    "    if p<2:\n",
    "        print('you put a wrong number')\n",
    "    elif p<=3:\n",
    "        print(p)\n",
    "    else:\n",
    "        for i in range(3,p+1):\n",
    "            for j in range(2,i):\n",
    "                if i%j==0:\n",
    "                    break\n",
    "            else:\n",
    "                print(i)\n",
    "primefinder(105)"
   ]
  },
  {
   "cell_type": "markdown",
   "metadata": {},
   "source": [
    "4) Using the square root function of the math module, write a function to calculate and return the hypotenuse of a right angled triangle, where the lengths of the other two sides of the triangle are the inputs to the function. "
   ]
  },
  {
   "cell_type": "code",
   "execution_count": 5,
   "metadata": {},
   "outputs": [
    {
     "data": {
      "text/plain": [
       "5.0"
      ]
     },
     "execution_count": 5,
     "metadata": {},
     "output_type": "execute_result"
    }
   ],
   "source": [
    "import math\n",
    "def hypotenuse(a,b):\n",
    "    hypo=math.sqrt((a**2+b**2))\n",
    "    return hypo\n",
    "\n",
    "hypotenuse(3,4)"
   ]
  },
  {
   "cell_type": "markdown",
   "metadata": {},
   "source": [
    "5) Write a function that calculates the volume of a cylinder, where the diameter and length are the inputs to the function. Compare how the solution varies when using the built-in value of pi from the math module compared to using approximations for pi that you store in a variable yourself."
   ]
  },
  {
   "cell_type": "code",
   "execution_count": 6,
   "metadata": {},
   "outputs": [
    {
     "data": {
      "text/plain": [
       "2.356194490192345"
      ]
     },
     "execution_count": 6,
     "metadata": {},
     "output_type": "execute_result"
    }
   ],
   "source": [
    "def volume(d,l):\n",
    "    v=d/2**2*math.pi*l\n",
    "    return v\n",
    "volume(3,1)"
   ]
  },
  {
   "cell_type": "markdown",
   "metadata": {},
   "source": [
    "6) Generate a list of random integers using the random module. Write a function that takes this list of random integers and returns both the mean and median values. You may find some of the built-in Python functions useful to you again."
   ]
  },
  {
   "cell_type": "code",
   "execution_count": 5,
   "metadata": {},
   "outputs": [
    {
     "name": "stdout",
     "output_type": "stream",
     "text": [
      "54 54.5\n"
     ]
    }
   ],
   "source": [
    "import random\n",
    "import statistics as st\n",
    "ran=[random.randint(1,100) for iter in range(10)]\n",
    "def meanmedian():\n",
    "    return print(st.mean(ran),st.median(ran))\n",
    "meanmedian()"
   ]
  },
  {
   "cell_type": "markdown",
   "metadata": {},
   "source": [
    "7) Implement a function called `coinToss`. The function should take a variable `n` as input, which represents the number of times to flip a coin. The function should return the number of heads, the number of tails, and the length of the longest streak of the same result. You should use a random number generator to implement your coin.\n",
    "\n",
    "E.g. If the input was 15 and sequence of coin flips was HHTHTTHTTHHHTTH then we should return 8,7,3 as we flipped 8 heads, 7 tails, and there was a longest streak of 3 heads in a row."
   ]
  },
  {
   "cell_type": "code",
   "execution_count": 25,
   "metadata": {},
   "outputs": [],
   "source": [
    "def coinToss(n):\n",
    "    coinface=['H','T']\n",
    "    samples = [random.choice(coinface) for times in range(n)]\n",
    "    heads = samples.count('H')\n",
    "    tails = samples.count('T')\n",
    "    numbers=list(range(n-1))\n",
    "    for num in numbers:\n",
    "        if samples[num+1]==samples[num]:\n",
    "            count+=1\n",
    "        else:\n",
    "            count=1\n",
    "coinToss(15)"
   ]
  },
  {
   "cell_type": "markdown",
   "metadata": {},
   "source": [
    "8) Using the copy module, make a copy of the list L. Change some values in your new list, and print both lists out to ensure they are both different."
   ]
  },
  {
   "cell_type": "code",
   "execution_count": 23,
   "metadata": {},
   "outputs": [
    {
     "name": "stdout",
     "output_type": "stream",
     "text": [
      "[4, 4, 6, 8, 10, 15, 7, 5, 3, 1]\n"
     ]
    }
   ],
   "source": [
    "L = [2,4,6,8,10,9,7,5,3,1]\n",
    "\n",
    "import copy\n",
    "L1=copy.copy(L)\n",
    "L1[0]=4;L1[5]=15\n",
    "print(L1)"
   ]
  }
 ],
 "metadata": {
  "kernelspec": {
   "display_name": "Python 3",
   "language": "python",
   "name": "python3"
  },
  "language_info": {
   "codemirror_mode": {
    "name": "ipython",
    "version": 3
   },
   "file_extension": ".py",
   "mimetype": "text/x-python",
   "name": "python",
   "nbconvert_exporter": "python",
   "pygments_lexer": "ipython3",
   "version": "3.8.11"
  }
 },
 "nbformat": 4,
 "nbformat_minor": 4
}
