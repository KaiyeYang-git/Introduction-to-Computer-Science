{
 "cells": [
  {
   "cell_type": "markdown",
   "metadata": {},
   "source": [
    "## Test Your Knowledge\n",
    "\n",
    "In the blocks below you will find a range of questions that cover the material we've looked at in previous notebooks. Make sure you can do these tasks before you move on to the next topic, which will cover control-flow in Python. "
   ]
  },
  {
   "cell_type": "markdown",
   "metadata": {},
   "source": [
    "1) Define S to be the string \"abcdefgh\". Write expressions using S and the index operator to return the following strings:\n",
    "\n",
    "a) \"a\" <br>\n",
    "b) \"c\" <br>\n",
    "c) \"e\" <br>"
   ]
  },
  {
   "cell_type": "code",
   "execution_count": 49,
   "metadata": {},
   "outputs": [
    {
     "name": "stdout",
     "output_type": "stream",
     "text": [
      "abcdefgh\n"
     ]
    }
   ],
   "source": [
    "S='abcdefgh'\n",
    "print(S)"
   ]
  },
  {
   "cell_type": "markdown",
   "metadata": {},
   "source": [
    "2) Using the same string S, this time return a sublist that spells out the word \"ace\". You should be able to do this with a single line of code using the indexing operator. "
   ]
  },
  {
   "cell_type": "code",
   "execution_count": 50,
   "metadata": {},
   "outputs": [
    {
     "name": "stdout",
     "output_type": "stream",
     "text": [
      "ace\n"
     ]
    }
   ],
   "source": [
    "new_word=S[0]+S[2]+S[4]\n",
    "print(new_word)"
   ]
  },
  {
   "cell_type": "markdown",
   "metadata": {},
   "source": [
    "3) In the code block below we have defined L to be a list of prices for a new CPU that I would like to buy.\n",
    "\n",
    "a) Print out the minimum and maximum prices without sorting the list first."
   ]
  },
  {
   "cell_type": "code",
   "execution_count": 51,
   "metadata": {},
   "outputs": [
    {
     "name": "stdout",
     "output_type": "stream",
     "text": [
      "222.99 195.99\n"
     ]
    }
   ],
   "source": [
    "L = [199.99, 219.99, 220.00, 222.99, 195.99, 210.00]\n",
    "\n",
    "MaxL=max(L)\n",
    "MinL=min(L)\n",
    "print(MaxL,MinL)"
   ]
  },
  {
   "cell_type": "markdown",
   "metadata": {},
   "source": [
    "b) Use the built-in sort function to sort the list, and print out the minimum and maximum price using the indexing operator."
   ]
  },
  {
   "cell_type": "code",
   "execution_count": 52,
   "metadata": {},
   "outputs": [
    {
     "name": "stdout",
     "output_type": "stream",
     "text": [
      "222.99 195.99\n"
     ]
    }
   ],
   "source": [
    "MaxSL=sorted(L,reverse=True)[0]\n",
    "MinSL=sorted(L,reverse=False)[0]\n",
    "print(MaxSL,MinSL)"
   ]
  },
  {
   "cell_type": "markdown",
   "metadata": {},
   "source": [
    "4) Using the built-in len function, and the boolean operators we saw in the previous topic, check if the two strings given in the code block have the same length. Print `True` if they do and `False` otherwise."
   ]
  },
  {
   "cell_type": "code",
   "execution_count": 53,
   "metadata": {},
   "outputs": [
    {
     "data": {
      "text/plain": [
       "False"
      ]
     },
     "execution_count": 53,
     "metadata": {},
     "output_type": "execute_result"
    }
   ],
   "source": [
    "x = \"Hello\"\n",
    "y = \"Goodbye\"\n",
    "\n",
    "len(x)==len(y)"
   ]
  },
  {
   "cell_type": "markdown",
   "metadata": {},
   "source": [
    "5) Given the list in the code block below, calculate the sum of all of the elements, except for the largest and smallest elements. There are multiple ways to solve this problem, try to make your code succinct. "
   ]
  },
  {
   "cell_type": "code",
   "execution_count": 54,
   "metadata": {},
   "outputs": [
    {
     "name": "stdout",
     "output_type": "stream",
     "text": [
      "44\n"
     ]
    }
   ],
   "source": [
    "L = [9,5,7,10,6,8,1,3,2,4]\n",
    "\n",
    "sumL=sum(sorted(L,reverse=True)[1:len(L)-1:1])\n",
    "print(sumL)"
   ]
  },
  {
   "cell_type": "markdown",
   "metadata": {},
   "source": [
    "6) Given the matrix (list of lists) in the code block below, try to calculate the following and return your answers as a list:\n",
    "\n",
    "a) Row Sums"
   ]
  },
  {
   "cell_type": "code",
   "execution_count": 64,
   "metadata": {
    "scrolled": true
   },
   "outputs": [
    {
     "name": "stdout",
     "output_type": "stream",
     "text": [
      "3\n",
      "12\n",
      "21\n"
     ]
    }
   ],
   "source": [
    "L = [[0,1,2],[3,4,5],[6,7,8]]\n",
    "\n",
    "for items in L:\n",
    "    print(sum(items))"
   ]
  },
  {
   "cell_type": "markdown",
   "metadata": {},
   "source": [
    "2) Columns Sums"
   ]
  },
  {
   "cell_type": "code",
   "execution_count": 65,
   "metadata": {},
   "outputs": [
    {
     "name": "stdout",
     "output_type": "stream",
     "text": [
      "9\n",
      "12\n",
      "15\n"
     ]
    }
   ],
   "source": [
    "# method 1\n",
    "answer1=[]\n",
    "answer2=[]\n",
    "answer3=[]\n",
    "for items in L:\n",
    "    item_1=items[0]\n",
    "    item_2=items[1]\n",
    "    item_3=items[2]\n",
    "    answer1.append(item_1)\n",
    "    answer2.append(item_2)\n",
    "    answer3.append(item_3)\n",
    "print(sum(answer1))\n",
    "print(sum(answer2))\n",
    "print(sum(answer3))"
   ]
  },
  {
   "cell_type": "code",
   "execution_count": 69,
   "metadata": {
    "scrolled": false
   },
   "outputs": [
    {
     "name": "stdout",
     "output_type": "stream",
     "text": [
      "[3, 12, 21]\n"
     ]
    }
   ],
   "source": [
    "# method 2 a much easy way\n",
    "result=[]\n",
    "for i in range(0,3):\n",
    "    result.append(sum(L[i]))\n",
    "print(result)"
   ]
  },
  {
   "cell_type": "markdown",
   "metadata": {},
   "source": [
    "7) Check if the element \"E\" exists in the tuple defined below:"
   ]
  },
  {
   "cell_type": "code",
   "execution_count": 44,
   "metadata": {
    "scrolled": true
   },
   "outputs": [
    {
     "data": {
      "text/plain": [
       "False"
      ]
     },
     "execution_count": 44,
     "metadata": {},
     "output_type": "execute_result"
    }
   ],
   "source": [
    "T = (\"A\", \"e\", \"I\", \"O\", \"U\")\n",
    "\n",
    "'E' in T"
   ]
  },
  {
   "cell_type": "markdown",
   "metadata": {},
   "source": [
    "8) Replace the element \"e\" with the element \"E\" in the data structure below:"
   ]
  },
  {
   "cell_type": "code",
   "execution_count": 42,
   "metadata": {},
   "outputs": [
    {
     "name": "stdout",
     "output_type": "stream",
     "text": [
      "(['A', 'E', 'I', 'O', 'U'], ['B', 'C'])\n"
     ]
    }
   ],
   "source": [
    "T = ([\"A\", \"e\", \"I\", \"O\", \"U\"],[\"B\",\"C\"])\n",
    "T[0][1]='E'\n",
    "print(T)"
   ]
  },
  {
   "cell_type": "markdown",
   "metadata": {},
   "source": [
    "9) Using the dictionary defined below, calculate the total population of all of the settlements. Then add a new key-value pair to the dictionary with the key \"County Durham\", and the value being that total population. "
   ]
  },
  {
   "cell_type": "code",
   "execution_count": 89,
   "metadata": {},
   "outputs": [
    {
     "name": "stdout",
     "output_type": "stream",
     "text": [
      "{'Darlington': 92363, 'Hartlepool': 88855, 'Stockton-on-Tees': 82729, 'Durham': 47785, 'Billingham': 35392, 'County Durham': 347124}\n"
     ]
    }
   ],
   "source": [
    "D = {\n",
    "    \"Darlington\" : 92363,\n",
    "    \"Hartlepool\" : 88855,\n",
    "    \"Stockton-on-Tees\" : 82729,\n",
    "    \"Durham\" : 47785,\n",
    "    \"Billingham\" : 35392\n",
    "}\n",
    "\n",
    "D[\"County Durham\"]=sum(D.values())\n",
    "print(D)"
   ]
  },
  {
   "cell_type": "markdown",
   "metadata": {},
   "source": [
    "10) Using the set defined in the code block below, work out which set operator to use to answer the following questions:\n",
    "\n",
    "a) The set of odd numbers that are not prime."
   ]
  },
  {
   "cell_type": "code",
   "execution_count": 76,
   "metadata": {},
   "outputs": [
    {
     "name": "stdout",
     "output_type": "stream",
     "text": [
      "{1, 9, 15, 21, 25}\n"
     ]
    }
   ],
   "source": [
    "odd = {1,3,5,7,9,11,13,15,17,19,21,23,25}\n",
    "even = {2,4,6,8,10,12,14,16,18,20,22,24}\n",
    "prime = {2,3,5,7,11,13,17,19,23}\n",
    "\n",
    "answer=odd - prime\n",
    "print(answer)"
   ]
  },
  {
   "cell_type": "markdown",
   "metadata": {},
   "source": [
    "b) The set of prime numbers that are not odd (try to find multiple ways in which to do this)."
   ]
  },
  {
   "cell_type": "code",
   "execution_count": 77,
   "metadata": {},
   "outputs": [
    {
     "name": "stdout",
     "output_type": "stream",
     "text": [
      "{2}\n"
     ]
    }
   ],
   "source": [
    "answer=prime-odd\n",
    "print(answer)"
   ]
  },
  {
   "cell_type": "markdown",
   "metadata": {},
   "source": [
    "c) All of the numbers between 1 and 25 that are not prime."
   ]
  },
  {
   "cell_type": "code",
   "execution_count": 82,
   "metadata": {},
   "outputs": [
    {
     "name": "stdout",
     "output_type": "stream",
     "text": [
      "{1, 4, 6, 8, 9, 10, 12, 14, 15, 16, 18, 20, 21, 22, 24, 25}\n"
     ]
    }
   ],
   "source": [
    "answer=set(range(1,26))-prime\n",
    "print(answer)"
   ]
  },
  {
   "cell_type": "markdown",
   "metadata": {},
   "source": [
    "<br>\n",
    "\n",
    "If you're not confident with your solutions, you should ask a demonstrator to explain any concepts you don't fully understand. The demonstrators will occasionally drop in to your breakout rooms to see how you are getting on with the tasks, and you should show them your solutions to check if they are correct. Once you've completed this and you're confident you have the correct answers, feel free to move on to the next topic if it is available."
   ]
  }
 ],
 "metadata": {
  "kernelspec": {
   "display_name": "Python 3",
   "language": "python",
   "name": "python3"
  },
  "language_info": {
   "codemirror_mode": {
    "name": "ipython",
    "version": 3
   },
   "file_extension": ".py",
   "mimetype": "text/x-python",
   "name": "python",
   "nbconvert_exporter": "python",
   "pygments_lexer": "ipython3",
   "version": "3.8.11"
  }
 },
 "nbformat": 4,
 "nbformat_minor": 4
}
